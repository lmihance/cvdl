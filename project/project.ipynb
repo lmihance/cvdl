{
  "cells": [
    {
      "cell_type": "code",
      "execution_count": null,
      "metadata": {
        "colab": {
          "base_uri": "https://localhost:8080/",
          "height": 73,
          "resources": {
            "http://localhost:8080/nbextensions/google.colab/files.js": {
              "data": "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",
              "headers": [
                [
                  "content-type",
                  "application/javascript"
                ]
              ],
              "ok": true,
              "status": 200,
              "status_text": ""
            }
          }
        },
        "id": "wte7ObBG64CZ",
        "outputId": "2d23fe81-d500-432b-8f2b-413e2a8566d6"
      },
      "outputs": [
        {
          "output_type": "display_data",
          "data": {
            "text/html": [
              "\n",
              "     <input type=\"file\" id=\"files-49022a4c-7114-4be8-9937-288ffa35aea4\" name=\"files[]\" multiple disabled\n",
              "        style=\"border:none\" />\n",
              "     <output id=\"result-49022a4c-7114-4be8-9937-288ffa35aea4\">\n",
              "      Upload widget is only available when the cell has been executed in the\n",
              "      current browser session. Please rerun this cell to enable.\n",
              "      </output>\n",
              "      <script src=\"/nbextensions/google.colab/files.js\"></script> "
            ],
            "text/plain": [
              "<IPython.core.display.HTML object>"
            ]
          },
          "metadata": {}
        },
        {
          "output_type": "stream",
          "name": "stdout",
          "text": [
            "Saving kaggle.json to kaggle.json\n"
          ]
        }
      ],
      "source": [
        "! pip install -q kaggle\n",
        "from google.colab import files\n",
        "files.upload()\n",
        "! mkdir ~/.kaggle\n",
        "! cp kaggle.json ~/.kaggle/\n",
        "! chmod 600 ~/.kaggle/kaggle.json"
      ]
    },
    {
      "cell_type": "code",
      "execution_count": null,
      "metadata": {
        "colab": {
          "base_uri": "https://localhost:8080/"
        },
        "id": "nm8I30G_9U4U",
        "outputId": "8633b4fe-193a-4bfa-cec4-860b96cda2a9"
      },
      "outputs": [
        {
          "output_type": "stream",
          "name": "stdout",
          "text": [
            "Downloading pneumonia-xray-images.zip to /content\n",
            "100% 1.14G/1.14G [00:17<00:00, 81.9MB/s]\n",
            "100% 1.14G/1.14G [00:17<00:00, 68.3MB/s]\n"
          ]
        }
      ],
      "source": [
        "! kaggle datasets download -d pcbreviglieri/pneumonia-xray-images\n"
      ]
    },
    {
      "cell_type": "code",
      "execution_count": null,
      "metadata": {
        "id": "s3wuM8B29eXy"
      },
      "outputs": [],
      "source": [
        "import zipfile\n",
        "zf = \"/content/pneumonia-xray-images.zip\"\n",
        "target_dir = \"/content/data\"\n",
        "zfile = zipfile.ZipFile(zf)\n",
        "zfile.extractall(target_dir)"
      ]
    },
    {
      "cell_type": "code",
      "execution_count": null,
      "metadata": {
        "colab": {
          "base_uri": "https://localhost:8080/",
          "height": 1000
        },
        "id": "VWuMjrkS9o5r",
        "outputId": "1d64e704-2a57-4513-c2fa-6a85b63cce5d"
      },
      "outputs": [
        {
          "output_type": "stream",
          "name": "stdout",
          "text": [
            "Found 4192 images belonging to 2 classes.\n",
            "Found 624 images belonging to 2 classes.\n",
            "Found 1040 images belonging to 2 classes.\n",
            "{0: 1.9371534195933457, 1: 0.6739549839228296}\n",
            "Epoch 1/25\n",
            "262/262 [==============================] - 88s 285ms/step - loss: 0.6028 - accuracy: 0.6240 - val_loss: 0.2140 - val_accuracy: 0.9327 - lr: 0.0010\n",
            "Epoch 2/25\n",
            "262/262 [==============================] - 76s 290ms/step - loss: 0.3222 - accuracy: 0.8552 - val_loss: 0.5429 - val_accuracy: 0.9087 - lr: 0.0010\n",
            "Epoch 3/25\n",
            "262/262 [==============================] - ETA: 0s - loss: 0.2804 - accuracy: 0.8819\n",
            "Epoch 00003: ReduceLROnPlateau reducing learning rate to 0.0005000000237487257.\n",
            "262/262 [==============================] - 76s 291ms/step - loss: 0.2804 - accuracy: 0.8819 - val_loss: 0.2346 - val_accuracy: 0.9058 - lr: 0.0010\n",
            "Epoch 4/25\n",
            "262/262 [==============================] - 77s 294ms/step - loss: 0.2330 - accuracy: 0.9031 - val_loss: 0.1588 - val_accuracy: 0.9538 - lr: 5.0000e-04\n",
            "Epoch 5/25\n",
            "262/262 [==============================] - 76s 289ms/step - loss: 0.1757 - accuracy: 0.9301 - val_loss: 0.1505 - val_accuracy: 0.9413 - lr: 5.0000e-04\n",
            "Epoch 6/25\n",
            "262/262 [==============================] - 76s 289ms/step - loss: 0.1532 - accuracy: 0.9406 - val_loss: 0.1364 - val_accuracy: 0.9471 - lr: 5.0000e-04\n",
            "Epoch 7/25\n",
            "262/262 [==============================] - 78s 297ms/step - loss: 0.1393 - accuracy: 0.9427 - val_loss: 0.1767 - val_accuracy: 0.9519 - lr: 5.0000e-04\n",
            "Epoch 8/25\n",
            "262/262 [==============================] - ETA: 0s - loss: 0.1311 - accuracy: 0.9494\n",
            "Epoch 00008: ReduceLROnPlateau reducing learning rate to 0.0002500000118743628.\n",
            "262/262 [==============================] - 78s 298ms/step - loss: 0.1311 - accuracy: 0.9494 - val_loss: 0.1439 - val_accuracy: 0.9510 - lr: 5.0000e-04\n",
            "Epoch 9/25\n",
            "262/262 [==============================] - 77s 294ms/step - loss: 0.1155 - accuracy: 0.9571 - val_loss: 0.1177 - val_accuracy: 0.9538 - lr: 2.5000e-04\n",
            "Epoch 10/25\n",
            "262/262 [==============================] - 78s 298ms/step - loss: 0.1196 - accuracy: 0.9556 - val_loss: 0.1462 - val_accuracy: 0.9433 - lr: 2.5000e-04\n",
            "Epoch 11/25\n",
            "262/262 [==============================] - ETA: 0s - loss: 0.1089 - accuracy: 0.9571\n",
            "Epoch 00011: ReduceLROnPlateau reducing learning rate to 0.0001250000059371814.\n",
            "262/262 [==============================] - 79s 303ms/step - loss: 0.1089 - accuracy: 0.9571 - val_loss: 0.1187 - val_accuracy: 0.9567 - lr: 2.5000e-04\n",
            "Epoch 12/25\n",
            "262/262 [==============================] - 79s 300ms/step - loss: 0.0906 - accuracy: 0.9633 - val_loss: 0.1295 - val_accuracy: 0.9558 - lr: 1.2500e-04\n",
            "Epoch 13/25\n",
            "262/262 [==============================] - ETA: 0s - loss: 0.0895 - accuracy: 0.9659\n",
            "Epoch 00013: ReduceLROnPlateau reducing learning rate to 6.25000029685907e-05.\n",
            "262/262 [==============================] - 78s 298ms/step - loss: 0.0895 - accuracy: 0.9659 - val_loss: 0.1184 - val_accuracy: 0.9577 - lr: 1.2500e-04\n",
            "Epoch 14/25\n",
            "262/262 [==============================] - 77s 296ms/step - loss: 0.0893 - accuracy: 0.9661 - val_loss: 0.1252 - val_accuracy: 0.9538 - lr: 6.2500e-05\n",
            "Epoch 15/25\n",
            "262/262 [==============================] - ETA: 0s - loss: 0.0790 - accuracy: 0.9702\n",
            "Epoch 00015: ReduceLROnPlateau reducing learning rate to 3.125000148429535e-05.\n",
            "262/262 [==============================] - 78s 297ms/step - loss: 0.0790 - accuracy: 0.9702 - val_loss: 0.1225 - val_accuracy: 0.9538 - lr: 6.2500e-05\n",
            "Epoch 16/25\n",
            "262/262 [==============================] - 76s 291ms/step - loss: 0.0746 - accuracy: 0.9692 - val_loss: 0.1333 - val_accuracy: 0.9577 - lr: 3.1250e-05\n",
            "Epoch 17/25\n",
            "262/262 [==============================] - ETA: 0s - loss: 0.0820 - accuracy: 0.9685\n",
            "Epoch 00017: ReduceLROnPlateau reducing learning rate to 1.5625000742147677e-05.\n",
            "262/262 [==============================] - 77s 292ms/step - loss: 0.0820 - accuracy: 0.9685 - val_loss: 0.1221 - val_accuracy: 0.9500 - lr: 3.1250e-05\n",
            "Epoch 18/25\n",
            "262/262 [==============================] - 76s 290ms/step - loss: 0.0724 - accuracy: 0.9721 - val_loss: 0.1242 - val_accuracy: 0.9558 - lr: 1.5625e-05\n",
            "Epoch 19/25\n",
            "262/262 [==============================] - ETA: 0s - loss: 0.0751 - accuracy: 0.9719\n",
            "Epoch 00019: ReduceLROnPlateau reducing learning rate to 7.812500371073838e-06.\n",
            "262/262 [==============================] - 77s 293ms/step - loss: 0.0751 - accuracy: 0.9719 - val_loss: 0.1176 - val_accuracy: 0.9548 - lr: 1.5625e-05\n",
            "Epoch 20/25\n",
            "262/262 [==============================] - 77s 293ms/step - loss: 0.0688 - accuracy: 0.9730 - val_loss: 0.1194 - val_accuracy: 0.9558 - lr: 7.8125e-06\n",
            "Epoch 21/25\n",
            "262/262 [==============================] - ETA: 0s - loss: 0.0708 - accuracy: 0.9738\n",
            "Epoch 00021: ReduceLROnPlateau reducing learning rate to 3.906250185536919e-06.\n",
            "262/262 [==============================] - 79s 301ms/step - loss: 0.0708 - accuracy: 0.9738 - val_loss: 0.1185 - val_accuracy: 0.9558 - lr: 7.8125e-06\n",
            "Epoch 22/25\n",
            "262/262 [==============================] - 78s 298ms/step - loss: 0.0742 - accuracy: 0.9721 - val_loss: 0.1177 - val_accuracy: 0.9558 - lr: 3.9063e-06\n",
            "Epoch 23/25\n",
            "262/262 [==============================] - 80s 305ms/step - loss: 0.0704 - accuracy: 0.9709 - val_loss: 0.1168 - val_accuracy: 0.9558 - lr: 3.9063e-06\n",
            "Epoch 24/25\n",
            "262/262 [==============================] - 79s 301ms/step - loss: 0.0721 - accuracy: 0.9707 - val_loss: 0.1170 - val_accuracy: 0.9567 - lr: 3.9063e-06\n",
            "Epoch 25/25\n",
            "262/262 [==============================] - ETA: 0s - loss: 0.0665 - accuracy: 0.9735\n",
            "Epoch 00025: ReduceLROnPlateau reducing learning rate to 1.9531250927684596e-06.\n",
            "262/262 [==============================] - 75s 287ms/step - loss: 0.0665 - accuracy: 0.9735 - val_loss: 0.1180 - val_accuracy: 0.9558 - lr: 3.9063e-06\n",
            "\n",
            "\n",
            "Train time:\n",
            "2040.9407322406769\n",
            "\n",
            "\n"
          ]
        },
        {
          "output_type": "display_data",
          "data": {
            "image/png": "[encoded data removed]",
            "text/plain": [
              "<Figure size 432x288 with 1 Axes>"
            ]
          },
          "metadata": {
            "needs_background": "light"
          }
        },
        {
          "output_type": "stream",
          "name": "stdout",
          "text": [
            "39/39 [==============================] - 5s 134ms/step - loss: 0.3349 - accuracy: 0.9199\n",
            "The testing accuracy is : 91.98718070983887 %\n"
          ]
        },
        {
          "output_type": "display_data",
          "data": {
            "image/png": "[encoded data removed]",
            "text/plain": [
              "<Figure size 432x288 with 1 Axes>"
            ]
          },
          "metadata": {
            "needs_background": "light"
          }
        },
        {
          "output_type": "stream",
          "name": "stdout",
          "text": [
            "39/39 [==============================] - 5s 133ms/step\n"
          ]
        },
        {
          "output_type": "display_data",
          "data": {
            "image/png": "[encoded data removed]",
            "text/plain": [
              "<Figure size 432x288 with 2 Axes>"
            ]
          },
          "metadata": {
            "needs_background": "light"
          }
        },
        {
          "output_type": "stream",
          "name": "stdout",
          "text": [
            "              precision    recall  f1-score   support\n",
            "\n",
            "      NORMAL       0.94      0.84      0.89       234\n",
            "   PNEUMONIA       0.91      0.97      0.94       390\n",
            "\n",
            "    accuracy                           0.92       624\n",
            "   macro avg       0.93      0.90      0.91       624\n",
            "weighted avg       0.92      0.92      0.92       624\n",
            "\n",
            "Precision : 0.9254807692307692\n",
            "Recall    : 0.9034188034188034\n",
            "F1-score  : 0.9124215443001022\n"
          ]
        },
        {
          "output_type": "display_data",
          "data": {
            "image/png": "[encoded data removed]",
            "text/plain": [
              "<Figure size 432x288 with 1 Axes>"
            ]
          },
          "metadata": {
            "needs_background": "light"
          }
        }
      ],
      "source": [
        "from tensorflow.keras.layers import Dense,Conv2D,Flatten,MaxPooling2D,BatchNormalization,Activation,Dropout\n",
        "from tensorflow.keras.callbacks import EarlyStopping,ReduceLROnPlateau\n",
        "from tensorflow.keras.models import Sequential,load_model,save_model\n",
        "from sklearn.metrics import precision_recall_fscore_support as score\n",
        "from tensorflow.keras.preprocessing.image import ImageDataGenerator\n",
        "from sklearn.metrics import classification_report,confusion_matrix\n",
        "from sklearn.utils.class_weight import compute_class_weight\n",
        "import matplotlib.pyplot as plt\n",
        "import seaborn as sns\n",
        "import pandas as pd\n",
        "import numpy as np\n",
        "import time\n",
        "\n",
        "\n",
        "train_path = \"data/train\"\n",
        "test_path = \"data/test\"\n",
        "valid_path = \"data/val\"\n",
        "\n",
        "batch_size = 16\n",
        "img_height = 250\n",
        "img_width = 250\n",
        "\n",
        "loader = ImageDataGenerator(rescale = 1./255,)\n",
        "loader2 = ImageDataGenerator(rescale = 1./255,)\n",
        "train_loader = ImageDataGenerator(rescale = 1./255, horizontal_flip=True, shear_range = 0.2, zoom_range = 0.2)\n",
        "\n",
        "train = train_loader.flow_from_directory(\n",
        "\ttrain_path,\n",
        "  color_mode='grayscale',\n",
        "\ttarget_size=(img_height, img_width),\n",
        "\tclass_mode='binary',\n",
        "\tbatch_size=batch_size)\n",
        "\n",
        "test = loader.flow_from_directory(\n",
        "\ttest_path,\n",
        "  shuffle=False,\n",
        "  color_mode='grayscale',\n",
        "\ttarget_size=(img_height, img_width),\n",
        "\tclass_mode='binary',\n",
        "\tbatch_size=batch_size)\n",
        "\n",
        "valid = loader2.flow_from_directory(\n",
        "\tvalid_path,\n",
        "  color_mode='grayscale',\n",
        "\ttarget_size=(img_height, img_width),\n",
        "\tclass_mode='binary',\n",
        "\tbatch_size=batch_size)\n",
        "\n",
        "cnn = Sequential()\n",
        "\n",
        "cnn.add(Conv2D(64, (3, 3), activation=\"relu\", input_shape=(img_width, img_height, 1), padding=\"same\"))\n",
        "cnn.add(MaxPooling2D(pool_size = (2, 2)))\n",
        "\n",
        "cnn.add(Conv2D(64, (3, 3), activation=\"relu\", padding=\"same\"))\n",
        "cnn.add(MaxPooling2D(pool_size = (2, 2)))\n",
        "\n",
        "cnn.add(Conv2D(128, (3, 3), activation=\"relu\", padding=\"same\"))\n",
        "cnn.add(MaxPooling2D(pool_size = (2, 2)))\n",
        "\n",
        "cnn.add(Conv2D(128, (3, 3), activation=\"relu\", padding=\"same\"))\n",
        "cnn.add(MaxPooling2D(pool_size = (2, 2)))\n",
        "\n",
        "cnn.add(Conv2D(256, (3, 3), activation=\"relu\", padding=\"same\"))\n",
        "cnn.add(MaxPooling2D(pool_size = (2, 2)))\n",
        "\n",
        "cnn.add(Flatten())\n",
        "cnn.add(Dense(activation = 'relu', units = 512))\n",
        "cnn.add(Dense(activation = 'relu', units = 256))\n",
        "cnn.add(Dense(activation = 'sigmoid', units = 1))\n",
        "\n",
        "cnn.compile(optimizer = \"adam\", loss = 'binary_crossentropy', metrics = ['accuracy'])\n",
        "\n",
        "early = EarlyStopping(monitor=\"val_loss\", mode=\"min\", patience=4)\n",
        "\n",
        "learning_rate_reduction = ReduceLROnPlateau(monitor='val_loss', patience = 2, verbose=1,factor=0.5, min_lr=0.000001)\n",
        "\n",
        "callbacks_list = [learning_rate_reduction]\n",
        "\n",
        "weights = compute_class_weight('balanced', classes=np.unique(train.classes), y=train.classes)\n",
        "cw = dict(zip(np.unique(train.classes), weights))\n",
        "print(cw)\n",
        "\n",
        "start = time.time()\n",
        "\n",
        "cnn.fit(train,epochs=25, validation_data=valid, class_weight=cw, callbacks=callbacks_list, shuffle=True)\n",
        "\n",
        "end = time.time()\n",
        "print()\n",
        "print()\n",
        "print(\"Train time:\")\n",
        "print(end - start)\n",
        "print()\n",
        "print()\n",
        "\n",
        "data = pd.DataFrame(cnn.history.history)\n",
        "\n",
        "data.plot()\n",
        "plt.show()\n",
        "\n",
        "test_accu = cnn.evaluate(test)\n",
        "\n",
        "print('The testing accuracy is :',test_accu[1]*100, '%')\n",
        "\n",
        "plt.plot(data['loss'], label='train loss')\n",
        "plt.plot(data['val_loss'], label='val loss')\n",
        "plt.legend()\n",
        "plt.show()\n",
        "\n",
        "preds = cnn.predict(test,verbose=1)\n",
        "\n",
        "predictions = preds.copy()\n",
        "predictions[predictions <= 0.5] = 0\n",
        "predictions[predictions > 0.5] = 1\n",
        "\n",
        "cm = pd.DataFrame(data=confusion_matrix(test.classes, predictions, labels=[0, 1]),index=[\"Actual Normal\", \"Actual Pneumonia\"],\n",
        "columns=[\"Predicted Normal\", \"Predicted Pneumonia\"])\n",
        "\n",
        "sns.heatmap(cm,annot=True,fmt=\"d\")\n",
        "plt.show()\n",
        "\n",
        "print(classification_report(y_true=test.classes,y_pred=predictions,target_names =['NORMAL','PNEUMONIA']))\n",
        "\n",
        "precision,recall,f1_score,support=score(test.classes,predictions,average='macro')\n",
        "\n",
        "print ('Precision : {}'.format(precision))\n",
        "print ('Recall    : {}'.format(recall))\n",
        "print ('F1-score  : {}'.format(f1_score))\n",
        "\n",
        "stats = [\"Accuracy\", \"Precision\", \"Recall\", \"F1 score\"]\n",
        "values = [test_accu[1], precision, recall, f1_score]\n",
        "\n",
        "plt.bar(stats, values)\n",
        "plt.show()\n",
        "\n",
        "cnn.save(\"model.h5\")"
      ]
    }
  ],
  "metadata": {
    "accelerator": "GPU",
    "colab": {
      "collapsed_sections": [],
      "name": "Untitled0.ipynb",
      "provenance": []
    },
    "kernelspec": {
      "display_name": "Python 3",
      "name": "python3"
    },
    "language_info": {
      "name": "python"
    }
  },
  "nbformat": 4,
  "nbformat_minor": 0
}